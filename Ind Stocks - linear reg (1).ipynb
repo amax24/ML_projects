{
 "cells": [
  {
   "cell_type": "code",
   "execution_count": 56,
   "id": "064ac01e",
   "metadata": {},
   "outputs": [],
   "source": [
    "# I used the python ML guide from https://thecleverprogrammer.com/2020/11/14/stock-price-prediction-using-machine-learning/ \n",
    "# with data sourced from Kaggle https://www.kaggle.com/iamsouravbanerjee/nifty50-stocks-dataset\n",
    "# had to debug to import csv and convert string to float. \n",
    "# based on low score at end, concluded dataset does not work with the ML template, check other variable to be sure.\n",
    "# still improved python understanding, debugging skills and increased confidence working with python & notebooks"
   ]
  },
  {
   "cell_type": "code",
   "execution_count": 1,
   "id": "5ad5816a",
   "metadata": {},
   "outputs": [],
   "source": [
    "import numpy as np\n",
    "import pandas as pd\n",
    "from sklearn import preprocessing\n",
    "from sklearn.model_selection import train_test_split\n",
    "from sklearn.linear_model import LinearRegression"
   ]
  },
  {
   "cell_type": "code",
   "execution_count": 2,
   "id": "f8cdf499",
   "metadata": {},
   "outputs": [],
   "source": [
    "def prepare_data(df,forecast_col,forecast_out,test_size):\n",
    "    label = df[forecast_col].shift(-forecast_out) #creating new column called label with the last 5 rows are nan\n",
    "    X = np.array(df[[forecast_col]]) #creating the feature array\n",
    "    X = preprocessing.scale(X) #processing the feature array\n",
    "    X_lately = X[-forecast_out:] #creating the column i want to use later in the predicting method\n",
    "    X = X[:-forecast_out] # X that will contain the training and testing\n",
    "    label.dropna(inplace=True) #dropping na values\n",
    "    y = np.array(label)  # assigning Y\n",
    "    X_train, X_test, Y_train, Y_test = train_test_split(X, y, test_size=test_size, random_state=0) #cross validation\n",
    "\n",
    "    response = [X_train,X_test , Y_train, Y_test , X_lately]\n",
    "    return response"
   ]
  },
  {
   "cell_type": "code",
   "execution_count": 7,
   "id": "e9c5c404",
   "metadata": {},
   "outputs": [],
   "source": [
    "df = pd.read_csv(r\"C:\\Users\\xxxx\\xxxx\\Documents\\ML_projects\\ind_stocks.csv\")\n"
   ]
  },
  {
   "cell_type": "code",
   "execution_count": 9,
   "id": "4c7bd75e",
   "metadata": {},
   "outputs": [
    {
     "data": {
      "text/html": [
       "<div>\n",
       "<style scoped>\n",
       "    .dataframe tbody tr th:only-of-type {\n",
       "        vertical-align: middle;\n",
       "    }\n",
       "\n",
       "    .dataframe tbody tr th {\n",
       "        vertical-align: top;\n",
       "    }\n",
       "\n",
       "    .dataframe thead th {\n",
       "        text-align: right;\n",
       "    }\n",
       "</style>\n",
       "<table border=\"1\" class=\"dataframe\">\n",
       "  <thead>\n",
       "    <tr style=\"text-align: right;\">\n",
       "      <th></th>\n",
       "      <th>Symbol</th>\n",
       "      <th>Open</th>\n",
       "      <th>High</th>\n",
       "      <th>Low</th>\n",
       "      <th>LTP</th>\n",
       "      <th>Chng</th>\n",
       "      <th>% Chng</th>\n",
       "      <th>Volume (lacs)</th>\n",
       "      <th>Turnover (crs.)</th>\n",
       "      <th>52w H</th>\n",
       "      <th>52w L</th>\n",
       "      <th>365 d % chng</th>\n",
       "      <th>30 d % chng</th>\n",
       "    </tr>\n",
       "  </thead>\n",
       "  <tbody>\n",
       "    <tr>\n",
       "      <th>0</th>\n",
       "      <td>ADANIPORTS</td>\n",
       "      <td>750</td>\n",
       "      <td>766</td>\n",
       "      <td>713.25</td>\n",
       "      <td>715</td>\n",
       "      <td>-47.45</td>\n",
       "      <td>-6.22</td>\n",
       "      <td>72.20</td>\n",
       "      <td>532.63</td>\n",
       "      <td>901</td>\n",
       "      <td>384.4</td>\n",
       "      <td>79.22</td>\n",
       "      <td>-4.65</td>\n",
       "    </tr>\n",
       "    <tr>\n",
       "      <th>1</th>\n",
       "      <td>ASIANPAINT</td>\n",
       "      <td>3,101.00</td>\n",
       "      <td>3,167.35</td>\n",
       "      <td>3,091.00</td>\n",
       "      <td>3,138.00</td>\n",
       "      <td>-6.25</td>\n",
       "      <td>-0.20</td>\n",
       "      <td>10.29</td>\n",
       "      <td>322.53</td>\n",
       "      <td>3,505.00</td>\n",
       "      <td>2,117.15</td>\n",
       "      <td>45.66</td>\n",
       "      <td>5.66</td>\n",
       "    </tr>\n",
       "    <tr>\n",
       "      <th>2</th>\n",
       "      <td>AXISBANK</td>\n",
       "      <td>669</td>\n",
       "      <td>674.9</td>\n",
       "      <td>660.45</td>\n",
       "      <td>661</td>\n",
       "      <td>-18.90</td>\n",
       "      <td>-2.78</td>\n",
       "      <td>102.53</td>\n",
       "      <td>684</td>\n",
       "      <td>866.9</td>\n",
       "      <td>568.4</td>\n",
       "      <td>10.19</td>\n",
       "      <td>-21.49</td>\n",
       "    </tr>\n",
       "    <tr>\n",
       "      <th>3</th>\n",
       "      <td>BAJAJ-AUTO</td>\n",
       "      <td>3,370.00</td>\n",
       "      <td>3,383.50</td>\n",
       "      <td>3,320.00</td>\n",
       "      <td>3,335.00</td>\n",
       "      <td>-56.70</td>\n",
       "      <td>-1.67</td>\n",
       "      <td>3.42</td>\n",
       "      <td>114.59</td>\n",
       "      <td>4,361.40</td>\n",
       "      <td>3,041.00</td>\n",
       "      <td>9.30</td>\n",
       "      <td>-12.05</td>\n",
       "    </tr>\n",
       "    <tr>\n",
       "      <th>4</th>\n",
       "      <td>BAJAJFINSV</td>\n",
       "      <td>17,200.00</td>\n",
       "      <td>17,237.20</td>\n",
       "      <td>16,610.00</td>\n",
       "      <td>16,684.00</td>\n",
       "      <td>-684.85</td>\n",
       "      <td>-3.94</td>\n",
       "      <td>3.42</td>\n",
       "      <td>576.79</td>\n",
       "      <td>19,325.00</td>\n",
       "      <td>8,273.70</td>\n",
       "      <td>91.38</td>\n",
       "      <td>-9.10</td>\n",
       "    </tr>\n",
       "  </tbody>\n",
       "</table>\n",
       "</div>"
      ],
      "text/plain": [
       "       Symbol       Open       High        Low        LTP    Chng  % Chng  \\\n",
       "0  ADANIPORTS        750        766     713.25        715  -47.45   -6.22   \n",
       "1  ASIANPAINT   3,101.00   3,167.35   3,091.00   3,138.00   -6.25   -0.20   \n",
       "2    AXISBANK        669      674.9     660.45        661  -18.90   -2.78   \n",
       "3  BAJAJ-AUTO   3,370.00   3,383.50   3,320.00   3,335.00  -56.70   -1.67   \n",
       "4  BAJAJFINSV  17,200.00  17,237.20  16,610.00  16,684.00 -684.85   -3.94   \n",
       "\n",
       "   Volume (lacs) Turnover (crs.)      52w H     52w L  365 d % chng  \\\n",
       "0          72.20          532.63        901     384.4         79.22   \n",
       "1          10.29          322.53   3,505.00  2,117.15         45.66   \n",
       "2         102.53             684      866.9     568.4         10.19   \n",
       "3           3.42          114.59   4,361.40  3,041.00          9.30   \n",
       "4           3.42          576.79  19,325.00  8,273.70         91.38   \n",
       "\n",
       "   30 d % chng  \n",
       "0        -4.65  \n",
       "1         5.66  \n",
       "2       -21.49  \n",
       "3       -12.05  \n",
       "4        -9.10  "
      ]
     },
     "execution_count": 9,
     "metadata": {},
     "output_type": "execute_result"
    }
   ],
   "source": [
    "df.head(5)"
   ]
  },
  {
   "cell_type": "code",
   "execution_count": 25,
   "id": "e3b66dba",
   "metadata": {},
   "outputs": [],
   "source": [
    "forecast_col = 'Open'\n",
    "forecast_out = 5\n",
    "test_size = 0.2"
   ]
  },
  {
   "cell_type": "code",
   "execution_count": 27,
   "id": "c99bb211",
   "metadata": {},
   "outputs": [],
   "source": [
    "# X_train, X_test, Y_train, Y_test , X_lately =prepare_data(df,float(forecast_col),forecast_out,test_size); #calling the method were the cross validation and data preperation is in\n",
    "# learner = LinearRegression() #initializing linear regression model\n",
    "\n",
    "# learner.fit(X_train,Y_train) #training the linear regression model\n",
    "\n",
    "#debugging to solve ValueError: could not convert string to float: 'Open'"
   ]
  },
  {
   "cell_type": "code",
   "execution_count": 28,
   "id": "2bdb6550",
   "metadata": {},
   "outputs": [],
   "source": [
    "# import locale\n",
    "# locale.setlocale(locale.LC_ALL, 'en_US.UTF-8')\n",
    "# locale.atof(df.Open)\n",
    "\n",
    "# throwing error TypeError: cannot convert the series to <class 'float'>"
   ]
  },
  {
   "cell_type": "code",
   "execution_count": 30,
   "id": "5673828d",
   "metadata": {},
   "outputs": [],
   "source": [
    "# c = df.select_dtypes(object).columns\n",
    "# df[c] = df[c].apply(pd.to_numeric,errors='coerce')\n",
    "\n",
    "# this one created lots of NaN values so not using"
   ]
  },
  {
   "cell_type": "code",
   "execution_count": 22,
   "id": "8bf41a9a",
   "metadata": {},
   "outputs": [
    {
     "data": {
      "text/html": [
       "<div>\n",
       "<style scoped>\n",
       "    .dataframe tbody tr th:only-of-type {\n",
       "        vertical-align: middle;\n",
       "    }\n",
       "\n",
       "    .dataframe tbody tr th {\n",
       "        vertical-align: top;\n",
       "    }\n",
       "\n",
       "    .dataframe thead th {\n",
       "        text-align: right;\n",
       "    }\n",
       "</style>\n",
       "<table border=\"1\" class=\"dataframe\">\n",
       "  <thead>\n",
       "    <tr style=\"text-align: right;\">\n",
       "      <th></th>\n",
       "      <th>Symbol</th>\n",
       "      <th>Open</th>\n",
       "      <th>High</th>\n",
       "      <th>Low</th>\n",
       "      <th>LTP</th>\n",
       "      <th>Chng</th>\n",
       "      <th>% Chng</th>\n",
       "      <th>Volume (lacs)</th>\n",
       "      <th>Turnover (crs.)</th>\n",
       "      <th>52w H</th>\n",
       "      <th>52w L</th>\n",
       "      <th>365 d % chng</th>\n",
       "      <th>30 d % chng</th>\n",
       "    </tr>\n",
       "  </thead>\n",
       "  <tbody>\n",
       "    <tr>\n",
       "      <th>0</th>\n",
       "      <td>NaN</td>\n",
       "      <td>750.0</td>\n",
       "      <td>766.0</td>\n",
       "      <td>713.25</td>\n",
       "      <td>715.0</td>\n",
       "      <td>-47.45</td>\n",
       "      <td>-6.22</td>\n",
       "      <td>72.20</td>\n",
       "      <td>532.63</td>\n",
       "      <td>901.0</td>\n",
       "      <td>384.4</td>\n",
       "      <td>79.22</td>\n",
       "      <td>-4.65</td>\n",
       "    </tr>\n",
       "    <tr>\n",
       "      <th>1</th>\n",
       "      <td>NaN</td>\n",
       "      <td>NaN</td>\n",
       "      <td>NaN</td>\n",
       "      <td>NaN</td>\n",
       "      <td>NaN</td>\n",
       "      <td>-6.25</td>\n",
       "      <td>-0.20</td>\n",
       "      <td>10.29</td>\n",
       "      <td>322.53</td>\n",
       "      <td>NaN</td>\n",
       "      <td>NaN</td>\n",
       "      <td>45.66</td>\n",
       "      <td>5.66</td>\n",
       "    </tr>\n",
       "    <tr>\n",
       "      <th>2</th>\n",
       "      <td>NaN</td>\n",
       "      <td>669.0</td>\n",
       "      <td>674.9</td>\n",
       "      <td>660.45</td>\n",
       "      <td>661.0</td>\n",
       "      <td>-18.90</td>\n",
       "      <td>-2.78</td>\n",
       "      <td>102.53</td>\n",
       "      <td>684.00</td>\n",
       "      <td>866.9</td>\n",
       "      <td>568.4</td>\n",
       "      <td>10.19</td>\n",
       "      <td>-21.49</td>\n",
       "    </tr>\n",
       "    <tr>\n",
       "      <th>3</th>\n",
       "      <td>NaN</td>\n",
       "      <td>NaN</td>\n",
       "      <td>NaN</td>\n",
       "      <td>NaN</td>\n",
       "      <td>NaN</td>\n",
       "      <td>-56.70</td>\n",
       "      <td>-1.67</td>\n",
       "      <td>3.42</td>\n",
       "      <td>114.59</td>\n",
       "      <td>NaN</td>\n",
       "      <td>NaN</td>\n",
       "      <td>9.30</td>\n",
       "      <td>-12.05</td>\n",
       "    </tr>\n",
       "    <tr>\n",
       "      <th>4</th>\n",
       "      <td>NaN</td>\n",
       "      <td>NaN</td>\n",
       "      <td>NaN</td>\n",
       "      <td>NaN</td>\n",
       "      <td>NaN</td>\n",
       "      <td>-684.85</td>\n",
       "      <td>-3.94</td>\n",
       "      <td>3.42</td>\n",
       "      <td>576.79</td>\n",
       "      <td>NaN</td>\n",
       "      <td>NaN</td>\n",
       "      <td>91.38</td>\n",
       "      <td>-9.10</td>\n",
       "    </tr>\n",
       "  </tbody>\n",
       "</table>\n",
       "</div>"
      ],
      "text/plain": [
       "   Symbol   Open   High     Low    LTP    Chng  % Chng  Volume (lacs)  \\\n",
       "0     NaN  750.0  766.0  713.25  715.0  -47.45   -6.22          72.20   \n",
       "1     NaN    NaN    NaN     NaN    NaN   -6.25   -0.20          10.29   \n",
       "2     NaN  669.0  674.9  660.45  661.0  -18.90   -2.78         102.53   \n",
       "3     NaN    NaN    NaN     NaN    NaN  -56.70   -1.67           3.42   \n",
       "4     NaN    NaN    NaN     NaN    NaN -684.85   -3.94           3.42   \n",
       "\n",
       "   Turnover (crs.)  52w H  52w L  365 d % chng  30 d % chng  \n",
       "0           532.63  901.0  384.4         79.22        -4.65  \n",
       "1           322.53    NaN    NaN         45.66         5.66  \n",
       "2           684.00  866.9  568.4         10.19       -21.49  \n",
       "3           114.59    NaN    NaN          9.30       -12.05  \n",
       "4           576.79    NaN    NaN         91.38        -9.10  "
      ]
     },
     "execution_count": 22,
     "metadata": {},
     "output_type": "execute_result"
    }
   ],
   "source": [
    "df.head(5)"
   ]
  },
  {
   "cell_type": "code",
   "execution_count": 31,
   "id": "79a84403",
   "metadata": {},
   "outputs": [],
   "source": [
    "# df['Open'].apply(lambda x: float(x))\n",
    "\n",
    "# This gave error ValueError: could not convert string to float: '3,101.00'"
   ]
  },
  {
   "cell_type": "code",
   "execution_count": 33,
   "id": "2fb2b8c4",
   "metadata": {},
   "outputs": [],
   "source": [
    "#re-read in df:\n",
    "\n",
    "df = pd.read_csv(r\"C:\\Users\\xxxx\\xxxx\\Documents\\ML_projects\\ind_stocks.csv\")\n",
    "\n"
   ]
  },
  {
   "cell_type": "code",
   "execution_count": 34,
   "id": "9cefe628",
   "metadata": {},
   "outputs": [],
   "source": [
    "df.Open = df.Open.apply(lambda x : x.replace(',',''))"
   ]
  },
  {
   "cell_type": "code",
   "execution_count": 35,
   "id": "97ee90b0",
   "metadata": {},
   "outputs": [
    {
     "data": {
      "text/html": [
       "<div>\n",
       "<style scoped>\n",
       "    .dataframe tbody tr th:only-of-type {\n",
       "        vertical-align: middle;\n",
       "    }\n",
       "\n",
       "    .dataframe tbody tr th {\n",
       "        vertical-align: top;\n",
       "    }\n",
       "\n",
       "    .dataframe thead th {\n",
       "        text-align: right;\n",
       "    }\n",
       "</style>\n",
       "<table border=\"1\" class=\"dataframe\">\n",
       "  <thead>\n",
       "    <tr style=\"text-align: right;\">\n",
       "      <th></th>\n",
       "      <th>Symbol</th>\n",
       "      <th>Open</th>\n",
       "      <th>High</th>\n",
       "      <th>Low</th>\n",
       "      <th>LTP</th>\n",
       "      <th>Chng</th>\n",
       "      <th>% Chng</th>\n",
       "      <th>Volume (lacs)</th>\n",
       "      <th>Turnover (crs.)</th>\n",
       "      <th>52w H</th>\n",
       "      <th>52w L</th>\n",
       "      <th>365 d % chng</th>\n",
       "      <th>30 d % chng</th>\n",
       "    </tr>\n",
       "  </thead>\n",
       "  <tbody>\n",
       "    <tr>\n",
       "      <th>0</th>\n",
       "      <td>ADANIPORTS</td>\n",
       "      <td>750</td>\n",
       "      <td>766</td>\n",
       "      <td>713.25</td>\n",
       "      <td>715</td>\n",
       "      <td>-47.45</td>\n",
       "      <td>-6.22</td>\n",
       "      <td>72.20</td>\n",
       "      <td>532.63</td>\n",
       "      <td>901</td>\n",
       "      <td>384.4</td>\n",
       "      <td>79.22</td>\n",
       "      <td>-4.65</td>\n",
       "    </tr>\n",
       "    <tr>\n",
       "      <th>1</th>\n",
       "      <td>ASIANPAINT</td>\n",
       "      <td>3101.00</td>\n",
       "      <td>3,167.35</td>\n",
       "      <td>3,091.00</td>\n",
       "      <td>3,138.00</td>\n",
       "      <td>-6.25</td>\n",
       "      <td>-0.20</td>\n",
       "      <td>10.29</td>\n",
       "      <td>322.53</td>\n",
       "      <td>3,505.00</td>\n",
       "      <td>2,117.15</td>\n",
       "      <td>45.66</td>\n",
       "      <td>5.66</td>\n",
       "    </tr>\n",
       "    <tr>\n",
       "      <th>2</th>\n",
       "      <td>AXISBANK</td>\n",
       "      <td>669</td>\n",
       "      <td>674.9</td>\n",
       "      <td>660.45</td>\n",
       "      <td>661</td>\n",
       "      <td>-18.90</td>\n",
       "      <td>-2.78</td>\n",
       "      <td>102.53</td>\n",
       "      <td>684</td>\n",
       "      <td>866.9</td>\n",
       "      <td>568.4</td>\n",
       "      <td>10.19</td>\n",
       "      <td>-21.49</td>\n",
       "    </tr>\n",
       "    <tr>\n",
       "      <th>3</th>\n",
       "      <td>BAJAJ-AUTO</td>\n",
       "      <td>3370.00</td>\n",
       "      <td>3,383.50</td>\n",
       "      <td>3,320.00</td>\n",
       "      <td>3,335.00</td>\n",
       "      <td>-56.70</td>\n",
       "      <td>-1.67</td>\n",
       "      <td>3.42</td>\n",
       "      <td>114.59</td>\n",
       "      <td>4,361.40</td>\n",
       "      <td>3,041.00</td>\n",
       "      <td>9.30</td>\n",
       "      <td>-12.05</td>\n",
       "    </tr>\n",
       "    <tr>\n",
       "      <th>4</th>\n",
       "      <td>BAJAJFINSV</td>\n",
       "      <td>17200.00</td>\n",
       "      <td>17,237.20</td>\n",
       "      <td>16,610.00</td>\n",
       "      <td>16,684.00</td>\n",
       "      <td>-684.85</td>\n",
       "      <td>-3.94</td>\n",
       "      <td>3.42</td>\n",
       "      <td>576.79</td>\n",
       "      <td>19,325.00</td>\n",
       "      <td>8,273.70</td>\n",
       "      <td>91.38</td>\n",
       "      <td>-9.10</td>\n",
       "    </tr>\n",
       "  </tbody>\n",
       "</table>\n",
       "</div>"
      ],
      "text/plain": [
       "       Symbol      Open       High        Low        LTP    Chng  % Chng  \\\n",
       "0  ADANIPORTS       750        766     713.25        715  -47.45   -6.22   \n",
       "1  ASIANPAINT   3101.00   3,167.35   3,091.00   3,138.00   -6.25   -0.20   \n",
       "2    AXISBANK       669      674.9     660.45        661  -18.90   -2.78   \n",
       "3  BAJAJ-AUTO   3370.00   3,383.50   3,320.00   3,335.00  -56.70   -1.67   \n",
       "4  BAJAJFINSV  17200.00  17,237.20  16,610.00  16,684.00 -684.85   -3.94   \n",
       "\n",
       "   Volume (lacs) Turnover (crs.)      52w H     52w L  365 d % chng  \\\n",
       "0          72.20          532.63        901     384.4         79.22   \n",
       "1          10.29          322.53   3,505.00  2,117.15         45.66   \n",
       "2         102.53             684      866.9     568.4         10.19   \n",
       "3           3.42          114.59   4,361.40  3,041.00          9.30   \n",
       "4           3.42          576.79  19,325.00  8,273.70         91.38   \n",
       "\n",
       "   30 d % chng  \n",
       "0        -4.65  \n",
       "1         5.66  \n",
       "2       -21.49  \n",
       "3       -12.05  \n",
       "4        -9.10  "
      ]
     },
     "execution_count": 35,
     "metadata": {},
     "output_type": "execute_result"
    }
   ],
   "source": [
    "df.head(5)"
   ]
  },
  {
   "cell_type": "code",
   "execution_count": 40,
   "id": "b2a7d3ce",
   "metadata": {},
   "outputs": [],
   "source": [
    "df['Open'] = df['Open']. astype(float)"
   ]
  },
  {
   "cell_type": "code",
   "execution_count": 44,
   "id": "c7dbb274",
   "metadata": {},
   "outputs": [
    {
     "data": {
      "text/plain": [
       "Symbol              object\n",
       "Open               float64\n",
       "High                object\n",
       "Low                 object\n",
       "LTP                 object\n",
       "Chng               float64\n",
       "% Chng             float64\n",
       "Volume (lacs)      float64\n",
       "Turnover (crs.)     object\n",
       "52w H               object\n",
       "52w L               object\n",
       "365 d % chng       float64\n",
       "30 d % chng        float64\n",
       "dtype: object"
      ]
     },
     "execution_count": 44,
     "metadata": {},
     "output_type": "execute_result"
    }
   ],
   "source": [
    "df.dtypes"
   ]
  },
  {
   "cell_type": "code",
   "execution_count": 45,
   "id": "d8e3c40c",
   "metadata": {},
   "outputs": [
    {
     "data": {
      "text/plain": [
       "LinearRegression()"
      ]
     },
     "execution_count": 45,
     "metadata": {},
     "output_type": "execute_result"
    }
   ],
   "source": [
    "X_train, X_test, Y_train, Y_test , X_lately =prepare_data(df,forecast_col,forecast_out,test_size); #calling the method were the cross validation and data preperation is in\n",
    "learner = LinearRegression() #initializing linear regression model\n",
    "\n",
    "learner.fit(X_train,Y_train) #training the linear regression model"
   ]
  },
  {
   "cell_type": "code",
   "execution_count": 46,
   "id": "8a223407",
   "metadata": {},
   "outputs": [
    {
     "name": "stdout",
     "output_type": "stream",
     "text": [
      "{'test_score': 0.012921311802699842, 'forecast_set': array([2821.73765733, 2755.67336763, 2345.8655969 , 2886.55006916,\n",
      "       2893.99795023])}\n"
     ]
    }
   ],
   "source": [
    "score=learner.score(X_test,Y_test)#testing the linear regression model\n",
    "forecast= learner.predict(X_lately) #set that will contain the forecasted data\n",
    "response={}#creting json object\n",
    "response['test_score']=score\n",
    "response['forecast_set']=forecast\n",
    "\n",
    "print(response)"
   ]
  },
  {
   "cell_type": "code",
   "execution_count": 58,
   "id": "e87171cc",
   "metadata": {},
   "outputs": [],
   "source": [
    "#Pretty sure this template will not work with df, however going to try on High column instead of Open to be sure"
   ]
  },
  {
   "cell_type": "code",
   "execution_count": 53,
   "id": "57142fd2",
   "metadata": {},
   "outputs": [],
   "source": [
    "forecast_col2 = 'High'\n",
    "forecast_out = 5\n",
    "test_size = 0.2"
   ]
  },
  {
   "cell_type": "code",
   "execution_count": 49,
   "id": "41236fb6",
   "metadata": {},
   "outputs": [],
   "source": [
    "df.High = df.High.apply(lambda x : x.replace(',',''))"
   ]
  },
  {
   "cell_type": "code",
   "execution_count": 50,
   "id": "3da7b539",
   "metadata": {},
   "outputs": [],
   "source": [
    "df['High'] = df['High']. astype(float)"
   ]
  },
  {
   "cell_type": "code",
   "execution_count": 54,
   "id": "cb8bba2b",
   "metadata": {},
   "outputs": [
    {
     "data": {
      "text/plain": [
       "LinearRegression()"
      ]
     },
     "execution_count": 54,
     "metadata": {},
     "output_type": "execute_result"
    }
   ],
   "source": [
    "X_train, X_test, Y_train, Y_test , X_lately =prepare_data(df,forecast_col2,forecast_out,test_size); #calling the method were the cross validation and data preperation is in\n",
    "learner = LinearRegression() #initializing linear regression model\n",
    "\n",
    "learner.fit(X_train,Y_train) #training the linear regression model"
   ]
  },
  {
   "cell_type": "code",
   "execution_count": 55,
   "id": "4f1f93c0",
   "metadata": {},
   "outputs": [
    {
     "name": "stdout",
     "output_type": "stream",
     "text": [
      "{'test_score': 0.0120250924744153, 'forecast_set': array([2853.08333204, 2786.42397331, 2370.24000676, 2918.85666648,\n",
      "       2926.16836239])}\n"
     ]
    }
   ],
   "source": [
    "score=learner.score(X_test,Y_test)#testing the linear regression model\n",
    "forecast= learner.predict(X_lately) #set that will contain the forecasted data\n",
    "response={}#creting json object\n",
    "response['test_score']=score\n",
    "response['forecast_set']=forecast\n",
    "\n",
    "print(response)"
   ]
  },
  {
   "cell_type": "code",
   "execution_count": null,
   "id": "963e110d",
   "metadata": {},
   "outputs": [],
   "source": []
  }
 ],
 "metadata": {
  "kernelspec": {
   "display_name": "Python 3 (ipykernel)",
   "language": "python",
   "name": "python3"
  },
  "language_info": {
   "codemirror_mode": {
    "name": "ipython",
    "version": 3
   },
   "file_extension": ".py",
   "mimetype": "text/x-python",
   "name": "python",
   "nbconvert_exporter": "python",
   "pygments_lexer": "ipython3",
   "version": "3.9.7"
  }
 },
 "nbformat": 4,
 "nbformat_minor": 5
}
